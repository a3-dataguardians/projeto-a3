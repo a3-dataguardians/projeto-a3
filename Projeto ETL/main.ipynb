{
 "cells": [
  {
   "cell_type": "markdown",
   "metadata": {},
   "source": [
    "Extraindo Projeto ETL Ocorrência de crimes."
   ]
  },
  {
   "cell_type": "markdown",
   "metadata": {},
   "source": [
    "Abaixo segue tentiva para extrair e tratarmos os dados extraídos de crimes e matrículas nas escolas, mesmo com erros, optamos por manter essa tentativa para demonstrarmos que tentamos realizar o projeto via código, porém continuamos com tratamento via excel e power querry, trazendo essa visão do excel para o Power BI, possibilitando análises de como as matrículas nas escolas influenciam os crimes em SP"
   ]
  },
  {
   "cell_type": "code",
   "execution_count": null,
   "metadata": {},
   "outputs": [],
   "source": [
    "!pip install scrapy"
   ]
  },
  {
   "cell_type": "code",
   "execution_count": 1,
   "metadata": {},
   "outputs": [
    {
     "name": "stdout",
     "output_type": "stream",
     "text": [
      "New Scrapy project 'crimes_sp', using template directory 'C:\\Users\\goula\\anaconda3\\Lib\\site-packages\\scrapy\\templates\\project', created in:\n",
      "    C:\\Users\\goula\\Desktop\\Projeto ETL\\crimes_sp\n",
      "\n",
      "You can start your first spider with:\n",
      "    cd crimes_sp\n",
      "    scrapy genspider example example.com\n"
     ]
    }
   ],
   "source": [
    "!scrapy startproject crimes_sp"
   ]
  },
  {
   "cell_type": "code",
   "execution_count": 2,
   "metadata": {},
   "outputs": [
    {
     "name": "stdout",
     "output_type": "stream",
     "text": [
      "c:\\Users\\goula\\Desktop\\Projeto ETL\\crimes_sp\n"
     ]
    }
   ],
   "source": [
    "%cd crimes_sp"
   ]
  },
  {
   "cell_type": "code",
   "execution_count": 3,
   "metadata": {},
   "outputs": [
    {
     "name": "stdout",
     "output_type": "stream",
     "text": [
      "Created spider 'ssp_sp' using template 'basic' in module:\n",
      "  crimes_sp.spiders.ssp_sp\n"
     ]
    }
   ],
   "source": [
    "!scrapy genspider ssp_sp ssp.sp.gov.br"
   ]
  },
  {
   "cell_type": "markdown",
   "metadata": {},
   "source": [
    "Tentativa de automação de processo de extração via scrapy, tivemos dificuldade pelo caminho e filtro de mais de 600 municípios"
   ]
  },
  {
   "cell_type": "code",
   "execution_count": 4,
   "metadata": {},
   "outputs": [
    {
     "name": "stdout",
     "output_type": "stream",
     "text": [
      "Overwriting crimes_sp/spiders/ssp_sp.py\n"
     ]
    }
   ],
   "source": [
    "%%writefile crimes_sp/spiders/ssp_sp.py\n",
    "import scrapy\n",
    "import os\n",
    "\n",
    "class SspSpSpider(scrapy.Spider):\n",
    "    name = 'ssp_sp'\n",
    "    allowed_domains = ['ssp.sp.gov.br']\n",
    "    start_urls = ['https://www.ssp.sp.gov.br/estatistica/dados-mensais']\n",
    "\n",
    "    def parse(self, response):\n",
    "        # Encontrar o botão \"ocorrências por ano\" e seguir o link\n",
    "        ano_url = response.css('a[href*=\"ocorrenciasporano\"]::attr(href)').get()\n",
    "        if ano_url:\n",
    "            yield response.follow(ano_url, self.parse_ocorrencias)\n",
    "\n",
    "    def parse_ocorrencias(self, response):\n",
    "        # Iterar sobre a lista de municípios\n",
    "        municipios = response.css('select[formcontrolname=\"anualMunicipio\"] option::attr(value)').getall()\n",
    "        municipios = municipios[1:]  # Ignorar a primeira opção \"Municípios\"\n",
    "        \n",
    "        for municipio in municipios:\n",
    "            municipio_url = f\"https://www.ssp.sp.gov.br/estatistica/ocorrenciasporano/{municipio}.aspx\"\n",
    "            yield response.follow(municipio_url, self.parse_municipio)\n",
    "\n",
    "    def parse_municipio(self, response):\n",
    "    # Encontrar o botão \"Exportar Dados\" usando o seletor CSS apropriado\n",
    "    export_button = response.css('button.btn-export')\n",
    "    if export_button:\n",
    "        # Clicar no botão de exportação para iniciar o download\n",
    "        yield scrapy.FormRequest.from_response(\n",
    "            response,\n",
    "            formcss='button.btn-export',\n",
    "            callback=self.download_data\n",
    "        )\n",
    "    else:\n",
    "        self.log(f'Export button not found for {response.url}', level=scrapy.log.ERROR)\n",
    "\n",
    "    def download_data(self, response):\n",
    "        # Extrair o nome do arquivo a partir da URL\n",
    "        path = response.url.split('/')[-1]\n",
    "        # Criar um diretório para salvar os arquivos, se não existir\n",
    "        if not os.path.exists('data'):\n",
    "            os.makedirs('data')\n",
    "        # Caminho completo do arquivo\n",
    "        full_path = os.path.join('data', path)\n",
    "        self.log(f'Saving file {full_path}')\n",
    "        # Salvar o conteúdo do arquivo\n",
    "        with open(full_path, 'wb') as f:\n",
    "            f.write(response.body)"
   ]
  },
  {
   "cell_type": "code",
   "execution_count": null,
   "metadata": {},
   "outputs": [],
   "source": [
    "!scrapy crawl ssp_sp"
   ]
  },
  {
   "cell_type": "code",
   "execution_count": null,
   "metadata": {},
   "outputs": [],
   "source": [
    "!pip install pandas openpyxl"
   ]
  },
  {
   "cell_type": "markdown",
   "metadata": {},
   "source": [
    "Tratando dados de uma planilha por municipio separando por ano"
   ]
  },
  {
   "cell_type": "code",
   "execution_count": null,
   "metadata": {},
   "outputs": [],
   "source": [
    "import pandas as pd\n",
    "\n",
    "# Data provided by the user\n",
    "file_path = \"C:\\Users\\goula\\Downloads\\OcorrenciaAnual-Adamantina_20240525_185440.xlsx\"\n",
    "df = pd.read_excel(file_path)\n",
    "\n",
    "# removendo colunas\n",
    "df = df.drop(columns=[\"homicidio\", \"frv\"])\n",
    "\n",
    "# separando DataFrame por ano\n",
    "dfs_by_year = {year: df[df[\"ano\"] == year].copy() for year in df[\"ano\"].unique()}\n",
    "\n",
    "output_path = \"C:\\Users\\goula\\Desktop\\Projeto_A3.xlsx\"\n",
    "with pd.ExcelWriter(output_path) as writer:\n",
    "    for year, data in dfs_by_year.items():\n",
    "        data.to_excel(writer, sheet_name=str(year), index=False)\n",
    "\n",
    "print(f\"Arquivo salvo com sucesso\")"
   ]
  },
  {
   "cell_type": "markdown",
   "metadata": {},
   "source": [
    "Tratando dados extraídos de Matrículas das Escolas em SP"
   ]
  },
  {
   "cell_type": "code",
   "execution_count": null,
   "metadata": {},
   "outputs": [],
   "source": [
    "import pandas as pd\n",
    "\n",
    "# Leitura do arquivo enviado\n",
    "file_path = \"C:\\Users\\goula\\Downloads\\Censo_escolar_-_sinopse_1 (1).xlsx\"\n",
    "df = pd.read_excel(file_path)\n",
    "\n",
    "# Remover espaços em branco dos nomes das colunas\n",
    "df.columns = df.columns.str.strip()\n",
    "\n",
    "# Filtrando os dados para ter somente dados do enisno médio\n",
    "df_ensino_medio = df[df['Nome'] == 'Ensino médio']\n",
    "\n",
    "# Removendo colunas desnecessárias\n",
    "df_ensino_medio = df_ensino_medio.drop(columns=[\"Posição\", \"Nome\", \"Unidade\", \"Multiplicador\"])\n",
    "\n",
    "# Criando um DataFrame separado para cada ano e salvando em um arquivo Excel\n",
    "output_path = \"C:\\Users\\goula\\Desktop\\Projeto_A3.xlsx\"\n",
    "with pd.ExcelWriter(output_path) as writer:\n",
    "    for year in range(2008, 2022):\n",
    "        df_year = df_ensino_medio[[\"Localidade\", str(year)]]\n",
    "        df_year.columns = [\"Municipio\", \"Matriculas\"]\n",
    "        df_year.to_excel(writer, sheet_name=str(year), index=False)\n",
    "\n",
    "print(f\"Arquivo salvo com sucesso\")"
   ]
  }
 ],
 "metadata": {
  "kernelspec": {
   "display_name": "Python 3",
   "language": "python",
   "name": "python3"
  },
  "language_info": {
   "codemirror_mode": {
    "name": "ipython",
    "version": 3
   },
   "file_extension": ".py",
   "mimetype": "text/x-python",
   "name": "python",
   "nbconvert_exporter": "python",
   "pygments_lexer": "ipython3",
   "version": "3.11.5"
  }
 },
 "nbformat": 4,
 "nbformat_minor": 2
}
